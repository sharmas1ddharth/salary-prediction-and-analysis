{
  "cells":[
    {
      "cell_type":"code",
      "source":[
        "import pandas as pd\n",
        "import matplotlib.pyplot as plt\n",
        "import seaborn as sb"
      ],
      "execution_count":0,
      "outputs":[
        
      ],
      "metadata":{
        
      }
    },
    {
      "cell_type":"code",
      "source":[
        "data = pd.read_csv('salary-prediction-and-analysis\/data\/survey_results_public.csv')\n",
        "data.head()"
      ],
      "execution_count":0,
      "outputs":[
        {
          "data":{
            "text\/html":[
              "<div>\n",
              "<style scoped>\n",
              "    .dataframe tbody tr th:only-of-type {\n",
              "        vertical-align: middle;\n",
              "    }\n",
              "\n",
              "    .dataframe tbody tr th {\n",
              "        vertical-align: top;\n",
              "    }\n",
              "\n",
              "    .dataframe thead th {\n",
              "        text-align: right;\n",
              "    }\n",
              "<\/style>\n",
              "<table border=\"1\" class=\"dataframe\">\n",
              "  <thead>\n",
              "    <tr style=\"text-align: right;\">\n",
              "      <th><\/th>\n",
              "      <th>Respondent<\/th>\n",
              "      <th>Professional<\/th>\n",
              "      <th>ProgramHobby<\/th>\n",
              "      <th>Country<\/th>\n",
              "      <th>University<\/th>\n",
              "      <th>EmploymentStatus<\/th>\n",
              "      <th>FormalEducation<\/th>\n",
              "      <th>MajorUndergrad<\/th>\n",
              "      <th>HomeRemote<\/th>\n",
              "      <th>CompanySize<\/th>\n",
              "      <th>CompanyType<\/th>\n",
              "      <th>YearsProgram<\/th>\n",
              "      <th>YearsCodedJob<\/th>\n",
              "      <th>YearsCodedJobPast<\/th>\n",
              "      <th>DeveloperType<\/th>\n",
              "      <th>WebDeveloperType<\/th>\n",
              "      <th>MobileDeveloperType<\/th>\n",
              "      <th>NonDeveloperType<\/th>\n",
              "      <th>CareerSatisfaction<\/th>\n",
              "      <th>JobSatisfaction<\/th>\n",
              "      <th>ExCoderReturn<\/th>\n",
              "      <th>ExCoderNotForMe<\/th>\n",
              "      <th>ExCoderBalance<\/th>\n",
              "      <th>ExCoder10Years<\/th>\n",
              "      <th>ExCoderBelonged<\/th>\n",
              "      <th>ExCoderSkills<\/th>\n",
              "      <th>ExCoderWillNotCode<\/th>\n",
              "      <th>ExCoderActive<\/th>\n",
              "      <th>PronounceGIF<\/th>\n",
              "      <th>ProblemSolving<\/th>\n",
              "      <th>BuildingThings<\/th>\n",
              "      <th>LearningNewTech<\/th>\n",
              "      <th>BoringDetails<\/th>\n",
              "      <th>JobSecurity<\/th>\n",
              "      <th>DiversityImportant<\/th>\n",
              "      <th>AnnoyingUI<\/th>\n",
              "      <th>FriendsDevelopers<\/th>\n",
              "      <th>RightWrongWay<\/th>\n",
              "      <th>UnderstandComputers<\/th>\n",
              "      <th>SeriousWork<\/th>\n",
              "      <th>...<\/th>\n",
              "      <th>InfluenceInternet<\/th>\n",
              "      <th>InfluenceWorkstation<\/th>\n",
              "      <th>InfluenceHardware<\/th>\n",
              "      <th>InfluenceServers<\/th>\n",
              "      <th>InfluenceTechStack<\/th>\n",
              "      <th>InfluenceDeptTech<\/th>\n",
              "      <th>InfluenceVizTools<\/th>\n",
              "      <th>InfluenceDatabase<\/th>\n",
              "      <th>InfluenceCloud<\/th>\n",
              "      <th>InfluenceConsultants<\/th>\n",
              "      <th>InfluenceRecruitment<\/th>\n",
              "      <th>InfluenceCommunication<\/th>\n",
              "      <th>StackOverflowDescribes<\/th>\n",
              "      <th>StackOverflowSatisfaction<\/th>\n",
              "      <th>StackOverflowDevices<\/th>\n",
              "      <th>StackOverflowFoundAnswer<\/th>\n",
              "      <th>StackOverflowCopiedCode<\/th>\n",
              "      <th>StackOverflowJobListing<\/th>\n",
              "      <th>StackOverflowCompanyPage<\/th>\n",
              "      <th>StackOverflowJobSearch<\/th>\n",
              "      <th>StackOverflowNewQuestion<\/th>\n",
              "      <th>StackOverflowAnswer<\/th>\n",
              "      <th>StackOverflowMetaChat<\/th>\n",
              "      <th>StackOverflowAdsRelevant<\/th>\n",
              "      <th>StackOverflowAdsDistracting<\/th>\n",
              "      <th>StackOverflowModeration<\/th>\n",
              "      <th>StackOverflowCommunity<\/th>\n",
              "      <th>StackOverflowHelpful<\/th>\n",
              "      <th>StackOverflowBetter<\/th>\n",
              "      <th>StackOverflowWhatDo<\/th>\n",
              "      <th>StackOverflowMakeMoney<\/th>\n",
              "      <th>Gender<\/th>\n",
              "      <th>HighestEducationParents<\/th>\n",
              "      <th>Race<\/th>\n",
              "      <th>SurveyLong<\/th>\n",
              "      <th>QuestionsInteresting<\/th>\n",
              "      <th>QuestionsConfusing<\/th>\n",
              "      <th>InterestedAnswers<\/th>\n",
              "      <th>Salary<\/th>\n",
              "      <th>ExpectedSalary<\/th>\n",
              "    <\/tr>\n",
              "  <\/thead>\n",
              "  <tbody>\n",
              "    <tr>\n",
              "      <th>0<\/th>\n",
              "      <td>1<\/td>\n",
              "      <td>Student<\/td>\n",
              "      <td>Yes, both<\/td>\n",
              "      <td>United States<\/td>\n",
              "      <td>No<\/td>\n",
              "      <td>Not employed, and not looking for work<\/td>\n",
              "      <td>Secondary school<\/td>\n",
              "      <td>NaN<\/td>\n",
              "      <td>NaN<\/td>\n",
              "      <td>NaN<\/td>\n",
              "      <td>NaN<\/td>\n",
              "      <td>2 to 3 years<\/td>\n",
              "      <td>NaN<\/td>\n",
              "      <td>NaN<\/td>\n",
              "      <td>NaN<\/td>\n",
              "      <td>NaN<\/td>\n",
              "      <td>NaN<\/td>\n",
              "      <td>NaN<\/td>\n",
              "      <td>NaN<\/td>\n",
              "      <td>NaN<\/td>\n",
              "      <td>NaN<\/td>\n",
              "      <td>NaN<\/td>\n",
              "      <td>NaN<\/td>\n",
              "      <td>NaN<\/td>\n",
              "      <td>NaN<\/td>\n",
              "      <td>NaN<\/td>\n",
              "      <td>NaN<\/td>\n",
              "      <td>NaN<\/td>\n",
              "      <td>With a soft \"g,\" like \"jiff\"<\/td>\n",
              "      <td>Strongly agree<\/td>\n",
              "      <td>Strongly agree<\/td>\n",
              "      <td>Agree<\/td>\n",
              "      <td>Disagree<\/td>\n",
              "      <td>Strongly agree<\/td>\n",
              "      <td>Agree<\/td>\n",
              "      <td>Agree<\/td>\n",
              "      <td>Disagree<\/td>\n",
              "      <td>Somewhat agree<\/td>\n",
              "      <td>Disagree<\/td>\n",
              "      <td>Strongly agree<\/td>\n",
              "      <td>...<\/td>\n",
              "      <td>Not very satisfied<\/td>\n",
              "      <td>NaN<\/td>\n",
              "      <td>NaN<\/td>\n",
              "      <td>NaN<\/td>\n",
              "      <td>NaN<\/td>\n",
              "      <td>NaN<\/td>\n",
              "      <td>NaN<\/td>\n",
              "      <td>NaN<\/td>\n",
              "      <td>NaN<\/td>\n",
              "      <td>NaN<\/td>\n",
              "      <td>NaN<\/td>\n",
              "      <td>NaN<\/td>\n",
              "      <td>I have created a CV or Developer Story on Stac...<\/td>\n",
              "      <td>9.0<\/td>\n",
              "      <td>Desktop; iOS app<\/td>\n",
              "      <td>At least once each week<\/td>\n",
              "      <td>Haven't done at all<\/td>\n",
              "      <td>Once or twice<\/td>\n",
              "      <td>Haven't done at all<\/td>\n",
              "      <td>Haven't done at all<\/td>\n",
              "      <td>Several times<\/td>\n",
              "      <td>Several times<\/td>\n",
              "      <td>Once or twice<\/td>\n",
              "      <td>Somewhat agree<\/td>\n",
              "      <td>Strongly disagree<\/td>\n",
              "      <td>Strongly disagree<\/td>\n",
              "      <td>Strongly agree<\/td>\n",
              "      <td>Agree<\/td>\n",
              "      <td>Strongly agree<\/td>\n",
              "      <td>Strongly agree<\/td>\n",
              "      <td>Strongly disagree<\/td>\n",
              "      <td>Male<\/td>\n",
              "      <td>High school<\/td>\n",
              "      <td>White or of European descent<\/td>\n",
              "      <td>Strongly disagree<\/td>\n",
              "      <td>Strongly agree<\/td>\n",
              "      <td>Disagree<\/td>\n",
              "      <td>Strongly agree<\/td>\n",
              "      <td>NaN<\/td>\n",
              "      <td>NaN<\/td>\n",
              "    <\/tr>\n",
              "    <tr>\n",
              "      <th>1<\/th>\n",
              "      <td>2<\/td>\n",
              "      <td>Student<\/td>\n",
              "      <td>Yes, both<\/td>\n",
              "      <td>United Kingdom<\/td>\n",
              "      <td>Yes, full-time<\/td>\n",
              "      <td>Employed part-time<\/td>\n",
              "      <td>Some college\/university study without earning ...<\/td>\n",
              "      <td>Computer science or software engineering<\/td>\n",
              "      <td>More than half, but not all, the time<\/td>\n",
              "      <td>20 to 99 employees<\/td>\n",
              "      <td>Privately-held limited company, not in startup...<\/td>\n",
              "      <td>9 to 10 years<\/td>\n",
              "      <td>NaN<\/td>\n",
              "      <td>NaN<\/td>\n",
              "      <td>NaN<\/td>\n",
              "      <td>NaN<\/td>\n",
              "      <td>NaN<\/td>\n",
              "      <td>NaN<\/td>\n",
              "      <td>NaN<\/td>\n",
              "      <td>NaN<\/td>\n",
              "      <td>NaN<\/td>\n",
              "      <td>NaN<\/td>\n",
              "      <td>NaN<\/td>\n",
              "      <td>NaN<\/td>\n",
              "      <td>NaN<\/td>\n",
              "      <td>NaN<\/td>\n",
              "      <td>NaN<\/td>\n",
              "      <td>NaN<\/td>\n",
              "      <td>With a hard \"g,\" like \"gift\"<\/td>\n",
              "      <td>NaN<\/td>\n",
              "      <td>NaN<\/td>\n",
              "      <td>NaN<\/td>\n",
              "      <td>NaN<\/td>\n",
              "      <td>NaN<\/td>\n",
              "      <td>NaN<\/td>\n",
              "      <td>NaN<\/td>\n",
              "      <td>NaN<\/td>\n",
              "      <td>NaN<\/td>\n",
              "      <td>NaN<\/td>\n",
              "      <td>NaN<\/td>\n",
              "      <td>...<\/td>\n",
              "      <td>Satisfied<\/td>\n",
              "      <td>No influence at all<\/td>\n",
              "      <td>No influence at all<\/td>\n",
              "      <td>No influence at all<\/td>\n",
              "      <td>No influence at all<\/td>\n",
              "      <td>No influence at all<\/td>\n",
              "      <td>No influence at all<\/td>\n",
              "      <td>No influence at all<\/td>\n",
              "      <td>No influence at all<\/td>\n",
              "      <td>No influence at all<\/td>\n",
              "      <td>No influence at all<\/td>\n",
              "      <td>No influence at all<\/td>\n",
              "      <td>I have created a CV or Developer Story on Stac...<\/td>\n",
              "      <td>8.0<\/td>\n",
              "      <td>Desktop; iOS browser; iOS app; Android browser...<\/td>\n",
              "      <td>Several times<\/td>\n",
              "      <td>Several times<\/td>\n",
              "      <td>Once or twice<\/td>\n",
              "      <td>Once or twice<\/td>\n",
              "      <td>Once or twice<\/td>\n",
              "      <td>Haven't done at all<\/td>\n",
              "      <td>Several times<\/td>\n",
              "      <td>At least once each week<\/td>\n",
              "      <td>Disagree<\/td>\n",
              "      <td>Strongly disagree<\/td>\n",
              "      <td>Strongly disagree<\/td>\n",
              "      <td>Strongly agree<\/td>\n",
              "      <td>Agree<\/td>\n",
              "      <td>Strongly agree<\/td>\n",
              "      <td>Strongly agree<\/td>\n",
              "      <td>Strongly disagree<\/td>\n",
              "      <td>Male<\/td>\n",
              "      <td>A master's degree<\/td>\n",
              "      <td>White or of European descent<\/td>\n",
              "      <td>Somewhat agree<\/td>\n",
              "      <td>Somewhat agree<\/td>\n",
              "      <td>Disagree<\/td>\n",
              "      <td>Strongly agree<\/td>\n",
              "      <td>NaN<\/td>\n",
              "      <td>37500.0<\/td>\n",
              "    <\/tr>\n",
              "    <tr>\n",
              "      <th>2<\/th>\n",
              "      <td>3<\/td>\n",
              "      <td>Professional developer<\/td>\n",
              "      <td>Yes, both<\/td>\n",
              "      <td>United Kingdom<\/td>\n",
              "      <td>No<\/td>\n",
              "      <td>Employed full-time<\/td>\n",
              "      <td>Bachelor's degree<\/td>\n",
              "      <td>Computer science or software engineering<\/td>\n",
              "      <td>Less than half the time, but at least one day ...<\/td>\n",
              "      <td>10,000 or more employees<\/td>\n",
              "      <td>Publicly-traded corporation<\/td>\n",
              "      <td>20 or more years<\/td>\n",
              "      <td>20 or more years<\/td>\n",
              "      <td>NaN<\/td>\n",
              "      <td>Other<\/td>\n",
              "      <td>NaN<\/td>\n",
              "      <td>NaN<\/td>\n",
              "      <td>NaN<\/td>\n",
              "      <td>8.0<\/td>\n",
              "      <td>9.0<\/td>\n",
              "      <td>NaN<\/td>\n",
              "      <td>NaN<\/td>\n",
              "      <td>NaN<\/td>\n",
              "      <td>NaN<\/td>\n",
              "      <td>NaN<\/td>\n",
              "      <td>NaN<\/td>\n",
              "      <td>NaN<\/td>\n",
              "      <td>NaN<\/td>\n",
              "      <td>With a hard \"g,\" like \"gift\"<\/td>\n",
              "      <td>Strongly agree<\/td>\n",
              "      <td>Strongly agree<\/td>\n",
              "      <td>Strongly agree<\/td>\n",
              "      <td>Somewhat agree<\/td>\n",
              "      <td>Agree<\/td>\n",
              "      <td>Strongly agree<\/td>\n",
              "      <td>Agree<\/td>\n",
              "      <td>Somewhat agree<\/td>\n",
              "      <td>Disagree<\/td>\n",
              "      <td>Disagree<\/td>\n",
              "      <td>Agree<\/td>\n",
              "      <td>...<\/td>\n",
              "      <td>Very satisfied<\/td>\n",
              "      <td>A lot of influence<\/td>\n",
              "      <td>Some influence<\/td>\n",
              "      <td>Some influence<\/td>\n",
              "      <td>Some influence<\/td>\n",
              "      <td>A lot of influence<\/td>\n",
              "      <td>Some influence<\/td>\n",
              "      <td>Some influence<\/td>\n",
              "      <td>Some influence<\/td>\n",
              "      <td>Some influence<\/td>\n",
              "      <td>Some influence<\/td>\n",
              "      <td>Some influence<\/td>\n",
              "      <td>I have created a CV or Developer Story on Stac...<\/td>\n",
              "      <td>8.0<\/td>\n",
              "      <td>Desktop; iOS browser; iOS app<\/td>\n",
              "      <td>Once or twice<\/td>\n",
              "      <td>Haven't done at all<\/td>\n",
              "      <td>Haven't done at all<\/td>\n",
              "      <td>Haven't done at all<\/td>\n",
              "      <td>Haven't done at all<\/td>\n",
              "      <td>Haven't done at all<\/td>\n",
              "      <td>At least once each day<\/td>\n",
              "      <td>At least once each day<\/td>\n",
              "      <td>Disagree<\/td>\n",
              "      <td>Disagree<\/td>\n",
              "      <td>Strongly disagree<\/td>\n",
              "      <td>Strongly agree<\/td>\n",
              "      <td>Agree<\/td>\n",
              "      <td>Agree<\/td>\n",
              "      <td>Agree<\/td>\n",
              "      <td>Disagree<\/td>\n",
              "      <td>Male<\/td>\n",
              "      <td>A professional degree<\/td>\n",
              "      <td>White or of European descent<\/td>\n",
              "      <td>Somewhat agree<\/td>\n",
              "      <td>Agree<\/td>\n",
              "      <td>Disagree<\/td>\n",
              "      <td>Agree<\/td>\n",
              "      <td>113750.0<\/td>\n",
              "      <td>NaN<\/td>\n",
              "    <\/tr>\n",
              "    <tr>\n",
              "      <th>3<\/th>\n",
              "      <td>4<\/td>\n",
              "      <td>Professional non-developer who sometimes write...<\/td>\n",
              "      <td>Yes, both<\/td>\n",
              "      <td>United States<\/td>\n",
              "      <td>No<\/td>\n",
              "      <td>Employed full-time<\/td>\n",
              "      <td>Doctoral degree<\/td>\n",
              "      <td>A non-computer-focused engineering discipline<\/td>\n",
              "      <td>Less than half the time, but at least one day ...<\/td>\n",
              "      <td>10,000 or more employees<\/td>\n",
              "      <td>Non-profit\/non-governmental organization or pr...<\/td>\n",
              "      <td>14 to 15 years<\/td>\n",
              "      <td>9 to 10 years<\/td>\n",
              "      <td>NaN<\/td>\n",
              "      <td>NaN<\/td>\n",
              "      <td>NaN<\/td>\n",
              "      <td>NaN<\/td>\n",
              "      <td>Data scientist<\/td>\n",
              "      <td>6.0<\/td>\n",
              "      <td>3.0<\/td>\n",
              "      <td>NaN<\/td>\n",
              "      <td>NaN<\/td>\n",
              "      <td>NaN<\/td>\n",
              "      <td>NaN<\/td>\n",
              "      <td>NaN<\/td>\n",
              "      <td>NaN<\/td>\n",
              "      <td>NaN<\/td>\n",
              "      <td>NaN<\/td>\n",
              "      <td>With a soft \"g,\" like \"jiff\"<\/td>\n",
              "      <td>Strongly agree<\/td>\n",
              "      <td>Strongly agree<\/td>\n",
              "      <td>Strongly agree<\/td>\n",
              "      <td>Disagree<\/td>\n",
              "      <td>Somewhat agree<\/td>\n",
              "      <td>Agree<\/td>\n",
              "      <td>Agree<\/td>\n",
              "      <td>Agree<\/td>\n",
              "      <td>Somewhat agree<\/td>\n",
              "      <td>Strongly disagree<\/td>\n",
              "      <td>Strongly agree<\/td>\n",
              "      <td>...<\/td>\n",
              "      <td>NaN<\/td>\n",
              "      <td>NaN<\/td>\n",
              "      <td>NaN<\/td>\n",
              "      <td>NaN<\/td>\n",
              "      <td>NaN<\/td>\n",
              "      <td>NaN<\/td>\n",
              "      <td>NaN<\/td>\n",
              "      <td>NaN<\/td>\n",
              "      <td>NaN<\/td>\n",
              "      <td>NaN<\/td>\n",
              "      <td>NaN<\/td>\n",
              "      <td>NaN<\/td>\n",
              "      <td>I have created a CV or Developer Story on Stac...<\/td>\n",
              "      <td>10.0<\/td>\n",
              "      <td>Desktop; iOS browser; iOS app<\/td>\n",
              "      <td>At least once each week<\/td>\n",
              "      <td>Several times<\/td>\n",
              "      <td>At least once each week<\/td>\n",
              "      <td>Several times<\/td>\n",
              "      <td>At least once each week<\/td>\n",
              "      <td>Several times<\/td>\n",
              "      <td>At least once each day<\/td>\n",
              "      <td>At least once each day<\/td>\n",
              "      <td>Agree<\/td>\n",
              "      <td>Strongly disagree<\/td>\n",
              "      <td>Strongly disagree<\/td>\n",
              "      <td>Strongly agree<\/td>\n",
              "      <td>Strongly agree<\/td>\n",
              "      <td>Agree<\/td>\n",
              "      <td>Strongly agree<\/td>\n",
              "      <td>Disagree<\/td>\n",
              "      <td>Male<\/td>\n",
              "      <td>A doctoral degree<\/td>\n",
              "      <td>White or of European descent<\/td>\n",
              "      <td>Agree<\/td>\n",
              "      <td>Agree<\/td>\n",
              "      <td>Somewhat agree<\/td>\n",
              "      <td>Strongly agree<\/td>\n",
              "      <td>NaN<\/td>\n",
              "      <td>NaN<\/td>\n",
              "    <\/tr>\n",
              "    <tr>\n",
              "      <th>4<\/th>\n",
              "      <td>5<\/td>\n",
              "      <td>Professional developer<\/td>\n",
              "      <td>Yes, I program as a hobby<\/td>\n",
              "      <td>Switzerland<\/td>\n",
              "      <td>No<\/td>\n",
              "      <td>Employed full-time<\/td>\n",
              "      <td>Master's degree<\/td>\n",
              "      <td>Computer science or software engineering<\/td>\n",
              "      <td>Never<\/td>\n",
              "      <td>10 to 19 employees<\/td>\n",
              "      <td>Privately-held limited company, not in startup...<\/td>\n",
              "      <td>20 or more years<\/td>\n",
              "      <td>10 to 11 years<\/td>\n",
              "      <td>NaN<\/td>\n",
              "      <td>Mobile developer; Graphics programming; Deskto...<\/td>\n",
              "      <td>NaN<\/td>\n",
              "      <td>NaN<\/td>\n",
              "      <td>NaN<\/td>\n",
              "      <td>6.0<\/td>\n",
              "      <td>8.0<\/td>\n",
              "      <td>NaN<\/td>\n",
              "      <td>NaN<\/td>\n",
              "      <td>NaN<\/td>\n",
              "      <td>NaN<\/td>\n",
              "      <td>NaN<\/td>\n",
              "      <td>NaN<\/td>\n",
              "      <td>NaN<\/td>\n",
              "      <td>NaN<\/td>\n",
              "      <td>With a soft \"g,\" like \"jiff\"<\/td>\n",
              "      <td>NaN<\/td>\n",
              "      <td>NaN<\/td>\n",
              "      <td>NaN<\/td>\n",
              "      <td>NaN<\/td>\n",
              "      <td>NaN<\/td>\n",
              "      <td>NaN<\/td>\n",
              "      <td>NaN<\/td>\n",
              "      <td>NaN<\/td>\n",
              "      <td>NaN<\/td>\n",
              "      <td>NaN<\/td>\n",
              "      <td>NaN<\/td>\n",
              "      <td>...<\/td>\n",
              "      <td>Satisfied<\/td>\n",
              "      <td>NaN<\/td>\n",
              "      <td>NaN<\/td>\n",
              "      <td>NaN<\/td>\n",
              "      <td>NaN<\/td>\n",
              "      <td>NaN<\/td>\n",
              "      <td>NaN<\/td>\n",
              "      <td>NaN<\/td>\n",
              "      <td>NaN<\/td>\n",
              "      <td>NaN<\/td>\n",
              "      <td>NaN<\/td>\n",
              "      <td>NaN<\/td>\n",
              "      <td>NaN<\/td>\n",
              "      <td>NaN<\/td>\n",
              "      <td>NaN<\/td>\n",
              "      <td>NaN<\/td>\n",
              "      <td>NaN<\/td>\n",
              "      <td>NaN<\/td>\n",
              "      <td>NaN<\/td>\n",
              "      <td>NaN<\/td>\n",
              "      <td>NaN<\/td>\n",
              "      <td>NaN<\/td>\n",
              "      <td>NaN<\/td>\n",
              "      <td>NaN<\/td>\n",
              "      <td>NaN<\/td>\n",
              "      <td>NaN<\/td>\n",
              "      <td>NaN<\/td>\n",
              "      <td>NaN<\/td>\n",
              "      <td>NaN<\/td>\n",
              "      <td>NaN<\/td>\n",
              "      <td>NaN<\/td>\n",
              "      <td>NaN<\/td>\n",
              "      <td>NaN<\/td>\n",
              "      <td>NaN<\/td>\n",
              "      <td>NaN<\/td>\n",
              "      <td>NaN<\/td>\n",
              "      <td>NaN<\/td>\n",
              "      <td>NaN<\/td>\n",
              "      <td>NaN<\/td>\n",
              "      <td>NaN<\/td>\n",
              "    <\/tr>\n",
              "  <\/tbody>\n",
              "<\/table>\n",
              "<p>5 rows × 154 columns<\/p>\n",
              "<\/div>"
            ]
          },
          "metadata":{
            
          },
          "output_type":"display_data"
        }
      ],
      "metadata":{
        
      }
    },
    {
      "cell_type":"code",
      "source":[
        "data.shape"
      ],
      "execution_count":0,
      "outputs":[
        {
          "data":{
            "text\/plain":[
              "(19102, 154)"
            ]
          },
          "metadata":{
            
          },
          "output_type":"display_data"
        }
      ],
      "metadata":{
        
      }
    },
    {
      "cell_type":"markdown",
      "source":[
        "## Analyzing data for better understanding of the data"
      ],
      "attachments":{
        
      },
      "metadata":{
        
      }
    },
    {
      "cell_type":"markdown",
      "source":[
        "### Which colummns have missing values?"
      ],
      "attachments":{
        
      },
      "metadata":{
        
      }
    },
    {
      "cell_type":"code",
      "source":[
        "# columns with null values\n",
        "null_val_col = [col for col in data.columns if data[col].isnull().any()]\n",
        "null_val_col"
      ],
      "execution_count":0,
      "outputs":[
        {
          "data":{
            "text\/plain":[
              "['MajorUndergrad',\n",
              " 'HomeRemote',\n",
              " 'CompanySize',\n",
              " 'CompanyType',\n",
              " 'YearsProgram',\n",
              " 'YearsCodedJob',\n",
              " 'YearsCodedJobPast',\n",
              " 'DeveloperType',\n",
              " 'WebDeveloperType',\n",
              " 'MobileDeveloperType',\n",
              " 'NonDeveloperType',\n",
              " 'CareerSatisfaction',\n",
              " 'JobSatisfaction',\n",
              " 'ExCoderReturn',\n",
              " 'ExCoderNotForMe',\n",
              " 'ExCoderBalance',\n",
              " 'ExCoder10Years',\n",
              " 'ExCoderBelonged',\n",
              " 'ExCoderSkills',\n",
              " 'ExCoderWillNotCode',\n",
              " 'ExCoderActive',\n",
              " 'PronounceGIF',\n",
              " 'ProblemSolving',\n",
              " 'BuildingThings',\n",
              " 'LearningNewTech',\n",
              " 'BoringDetails',\n",
              " 'JobSecurity',\n",
              " 'DiversityImportant',\n",
              " 'AnnoyingUI',\n",
              " 'FriendsDevelopers',\n",
              " 'RightWrongWay',\n",
              " 'UnderstandComputers',\n",
              " 'SeriousWork',\n",
              " 'InvestTimeTools',\n",
              " 'WorkPayCare',\n",
              " 'KinshipDevelopers',\n",
              " 'ChallengeMyself',\n",
              " 'CompetePeers',\n",
              " 'ChangeWorld',\n",
              " 'JobSeekingStatus',\n",
              " 'HoursPerWeek',\n",
              " 'LastNewJob',\n",
              " 'AssessJobIndustry',\n",
              " 'AssessJobRole',\n",
              " 'AssessJobExp',\n",
              " 'AssessJobDept',\n",
              " 'AssessJobTech',\n",
              " 'AssessJobProjects',\n",
              " 'AssessJobCompensation',\n",
              " 'AssessJobOffice',\n",
              " 'AssessJobCommute',\n",
              " 'AssessJobRemote',\n",
              " 'AssessJobLeaders',\n",
              " 'AssessJobProfDevel',\n",
              " 'AssessJobDiversity',\n",
              " 'AssessJobProduct',\n",
              " 'AssessJobFinances',\n",
              " 'ImportantBenefits',\n",
              " 'ClickyKeys',\n",
              " 'JobProfile',\n",
              " 'ResumePrompted',\n",
              " 'LearnedHiring',\n",
              " 'ImportantHiringAlgorithms',\n",
              " 'ImportantHiringTechExp',\n",
              " 'ImportantHiringCommunication',\n",
              " 'ImportantHiringOpenSource',\n",
              " 'ImportantHiringPMExp',\n",
              " 'ImportantHiringCompanies',\n",
              " 'ImportantHiringTitles',\n",
              " 'ImportantHiringEducation',\n",
              " 'ImportantHiringRep',\n",
              " 'ImportantHiringGettingThingsDone',\n",
              " 'Currency',\n",
              " 'Overpaid',\n",
              " 'TabsSpaces',\n",
              " 'EducationImportant',\n",
              " 'EducationTypes',\n",
              " 'SelfTaughtTypes',\n",
              " 'TimeAfterBootcamp',\n",
              " 'CousinEducation',\n",
              " 'WorkStart',\n",
              " 'HaveWorkedLanguage',\n",
              " 'WantWorkLanguage',\n",
              " 'HaveWorkedFramework',\n",
              " 'WantWorkFramework',\n",
              " 'HaveWorkedDatabase',\n",
              " 'WantWorkDatabase',\n",
              " 'HaveWorkedPlatform',\n",
              " 'WantWorkPlatform',\n",
              " 'IDE',\n",
              " 'AuditoryEnvironment',\n",
              " 'Methodology',\n",
              " 'VersionControl',\n",
              " 'CheckInCode',\n",
              " 'ShipIt',\n",
              " 'OtherPeoplesCode',\n",
              " 'ProjectManagement',\n",
              " 'EnjoyDebugging',\n",
              " 'InTheZone',\n",
              " 'DifficultCommunication',\n",
              " 'CollaborateRemote',\n",
              " 'MetricAssess',\n",
              " 'EquipmentSatisfiedMonitors',\n",
              " 'EquipmentSatisfiedCPU',\n",
              " 'EquipmentSatisfiedRAM',\n",
              " 'EquipmentSatisfiedStorage',\n",
              " 'EquipmentSatisfiedRW',\n",
              " 'InfluenceInternet',\n",
              " 'InfluenceWorkstation',\n",
              " 'InfluenceHardware',\n",
              " 'InfluenceServers',\n",
              " 'InfluenceTechStack',\n",
              " 'InfluenceDeptTech',\n",
              " 'InfluenceVizTools',\n",
              " 'InfluenceDatabase',\n",
              " 'InfluenceCloud',\n",
              " 'InfluenceConsultants',\n",
              " 'InfluenceRecruitment',\n",
              " 'InfluenceCommunication',\n",
              " 'StackOverflowDescribes',\n",
              " 'StackOverflowSatisfaction',\n",
              " 'StackOverflowDevices',\n",
              " 'StackOverflowFoundAnswer',\n",
              " 'StackOverflowCopiedCode',\n",
              " 'StackOverflowJobListing',\n",
              " 'StackOverflowCompanyPage',\n",
              " 'StackOverflowJobSearch',\n",
              " 'StackOverflowNewQuestion',\n",
              " 'StackOverflowAnswer',\n",
              " 'StackOverflowMetaChat',\n",
              " 'StackOverflowAdsRelevant',\n",
              " 'StackOverflowAdsDistracting',\n",
              " 'StackOverflowModeration',\n",
              " 'StackOverflowCommunity',\n",
              " 'StackOverflowHelpful',\n",
              " 'StackOverflowBetter',\n",
              " 'StackOverflowWhatDo',\n",
              " 'StackOverflowMakeMoney',\n",
              " 'Gender',\n",
              " 'HighestEducationParents',\n",
              " 'Race',\n",
              " 'SurveyLong',\n",
              " 'QuestionsInteresting',\n",
              " 'QuestionsConfusing',\n",
              " 'InterestedAnswers',\n",
              " 'Salary',\n",
              " 'ExpectedSalary']"
            ]
          },
          "metadata":{
            
          },
          "output_type":"display_data"
        }
      ],
      "metadata":{
        
      }
    },
    {
      "cell_type":"markdown",
      "source":[
        "### Which columns don't have missing values?"
      ],
      "attachments":{
        
      },
      "metadata":{
        
      }
    },
    {
      "cell_type":"code",
      "source":[
        "# columns without null values\n",
        "cols = data.columns[data.isnull().mean()==0]\n",
        "cols"
      ],
      "execution_count":0,
      "outputs":[
        {
          "data":{
            "text\/plain":[
              "Index(['Respondent', 'Professional', 'ProgramHobby', 'Country', 'University',\n",
              "       'EmploymentStatus', 'FormalEducation'],\n",
              "      dtype='object')"
            ]
          },
          "metadata":{
            
          },
          "output_type":"display_data"
        }
      ],
      "metadata":{
        
      }
    },
    {
      "cell_type":"markdown",
      "source":[
        "### Which columns have most missing values, more than 75% ?"
      ],
      "attachments":{
        
      },
      "metadata":{
        
      }
    },
    {
      "cell_type":"code",
      "source":[
        "most_missing_val_cols = data.columns[data.isnull().mean() > 0.75]\n",
        "most_missing_val_cols"
      ],
      "execution_count":0,
      "outputs":[
        {
          "data":{
            "text\/plain":[
              "Index(['YearsCodedJobPast', 'WebDeveloperType', 'MobileDeveloperType',\n",
              "       'NonDeveloperType', 'ExCoderReturn', 'ExCoderNotForMe',\n",
              "       'ExCoderBalance', 'ExCoder10Years', 'ExCoderBelonged', 'ExCoderSkills',\n",
              "       'ExCoderWillNotCode', 'ExCoderActive', 'TimeAfterBootcamp',\n",
              "       'ExpectedSalary'],\n",
              "      dtype='object')"
            ]
          },
          "metadata":{
            
          },
          "output_type":"display_data"
        }
      ],
      "metadata":{
        
      }
    },
    {
      "cell_type":"markdown",
      "source":[
        "### How many professional status values are present in the dataset?"
      ],
      "attachments":{
        
      },
      "metadata":{
        
      }
    },
    {
      "cell_type":"code",
      "source":[
        "status_values = data['Professional'].value_counts()\n",
        "status_values"
      ],
      "execution_count":0,
      "outputs":[
        {
          "data":{
            "text\/plain":[
              "Professional developer                                  13774\n",
              "Student                                                  2821\n",
              "Professional non-developer who sometimes writes code     1782\n",
              "None of these                                             368\n",
              "Used to be a professional developer                       357\n",
              "Name: Professional, dtype: int64"
            ]
          },
          "metadata":{
            
          },
          "output_type":"display_data"
        }
      ],
      "metadata":{
        
      }
    },
    {
      "cell_type":"code",
      "source":[
        "# plot the status values\n",
        "(status_values\/data.shape[0]).plot(kind=\"bar\")\n",
        "plt.title('Developer status');"
      ],
      "execution_count":0,
      "outputs":[
        {
          "data":{
            "image\/png":"[encoded data removed]"
          },
          "metadata":{
            "image\/png":{
              
            }
          },
          "output_type":"display_data"
        }
      ],
      "metadata":{
        
      }
    },
    {
      "cell_type":"markdown",
      "source":[
        "Around 70% of the developers in the dataset are Professional Developers"
      ],
      "attachments":{
        
      },
      "metadata":{
        
      }
    },
    {
      "cell_type":"markdown",
      "source":[
        "### How many Formal Education status values are present in the dataset?"
      ],
      "attachments":{
        
      },
      "metadata":{
        
      }
    },
    {
      "cell_type":"code",
      "source":[
        "formal_edu_values = data['FormalEducation'].value_counts()\n",
        "formal_edu_values"
      ],
      "execution_count":0,
      "outputs":[
        {
          "data":{
            "text\/plain":[
              "Bachelor's degree                                                    8099\n",
              "Master's degree                                                      4143\n",
              "Some college\/university study without earning a bachelor's degree    2869\n",
              "Secondary school                                                     2227\n",
              "Doctoral degree                                                       551\n",
              "I prefer not to answer                                                409\n",
              "Primary\/elementary school                                             404\n",
              "Professional degree                                                   255\n",
              "I never completed any formal education                                145\n",
              "Name: FormalEducation, dtype: int64"
            ]
          },
          "metadata":{
            
          },
          "output_type":"display_data"
        }
      ],
      "metadata":{
        
      }
    },
    {
      "cell_type":"code",
      "source":[
        "# plot the data  \n",
        "(formal_edu_values\/data.shape[0]).plot(kind='bar')\n",
        "plt.title('Formal Education');"
      ],
      "execution_count":0,
      "outputs":[
        {
          "data":{
            "image\/png":"[encoded data removed]"
          },
          "metadata":{
            "image\/png":{
              
            }
          },
          "output_type":"display_data"
        }
      ],
      "metadata":{
        
      }
    },
    {
      "cell_type":"markdown",
      "source":[
        "Around 45% of the developers completed and have Bachelor's degree"
      ],
      "attachments":{
        
      },
      "metadata":{
        
      }
    },
    {
      "cell_type":"markdown",
      "source":[
        "### How many countries are present in the data and how many developers are belong to a country?"
      ],
      "attachments":{
        
      },
      "metadata":{
        
      }
    },
    {
      "cell_type":"code",
      "source":[
        "country_values = data['Country'].value_counts()\n",
        "country_values"
      ],
      "execution_count":0,
      "outputs":[
        {
          "data":{
            "text\/plain":[
              "United States        4364\n",
              "India                1557\n",
              "United Kingdom       1424\n",
              "Germany              1337\n",
              "Canada                874\n",
              "                     ... \n",
              "Brunei Darussalam       1\n",
              "Senegal                 1\n",
              "Gabon                   1\n",
              "Anguilla                1\n",
              "Montenegro              1\n",
              "Name: Country, Length: 165, dtype: int64"
            ]
          },
          "metadata":{
            
          },
          "output_type":"display_data"
        }
      ],
      "metadata":{
        
      }
    },
    {
      "cell_type":"code",
      "source":[
        "# plot countries \n",
        "(country_values[:10]\/data.shape[0]).plot(kind='bar')\n",
        "plt.title('Count of developers belong to a Country');"
      ],
      "execution_count":0,
      "outputs":[
        {
          "data":{
            "image\/png":"[encoded data removed]"
          },
          "metadata":{
            "image\/png":{
              
            }
          },
          "output_type":"display_data"
        }
      ],
      "metadata":{
        
      }
    },
    {
      "cell_type":"code",
      "source":[
        
      ],
      "execution_count":0,
      "outputs":[
        
      ],
      "metadata":{
        
      }
    }
  ],
  "metadata":{
    
  },
  "nbformat":4,
  "nbformat_minor":0
}